{
  "nbformat": 4,
  "nbformat_minor": 0,
  "metadata": {
    "colab": {
      "provenance": [],
      "authorship_tag": "ABX9TyO/Wy0UXLEjk/OYf2TUFjVk",
      "include_colab_link": true
    },
    "kernelspec": {
      "name": "python3",
      "display_name": "Python 3"
    },
    "language_info": {
      "name": "python"
    }
  },
  "cells": [
    {
      "cell_type": "markdown",
      "metadata": {
        "id": "view-in-github",
        "colab_type": "text"
      },
      "source": [
        "<a href=\"https://colab.research.google.com/github/CleberLopes2022/Animacao/blob/main/examefinal.ipynb\" target=\"_parent\"><img src=\"https://colab.research.google.com/assets/colab-badge.svg\" alt=\"Open In Colab\"/></a>"
      ]
    },
    {
      "cell_type": "markdown",
      "source": [
        "# **Analise dos dados**"
      ],
      "metadata": {
        "id": "qcEodeGzFjFd"
      }
    },
    {
      "cell_type": "markdown",
      "source": [
        "### Importando as bibliotecas"
      ],
      "metadata": {
        "id": "jxljxoK4GAjD"
      }
    },
    {
      "cell_type": "markdown",
      "source": [
        "Linguagens para ciencia de dados:\n",
        "\n",
        "1.   Linguagen R\n",
        "2.   Python\n",
        "3.   Scala\n",
        "\n"
      ],
      "metadata": {
        "id": "mAWPPbBhGbay"
      }
    },
    {
      "cell_type": "markdown",
      "source": [
        "Bibliotecas para ciencia de dados:\n",
        "1.   Pandas\n",
        "2.   Numpy\n",
        "3.   Matplotlib\n",
        "4.   Scikit-learn\n",
        "\n",
        "\n"
      ],
      "metadata": {
        "id": "O9TVyIRYGbmX"
      }
    },
    {
      "cell_type": "code",
      "source": [
        "# Exemplos de expressões aritimeticas:\n",
        "\n",
        "a = 2 + 2\n",
        "b = 4 / 2\n",
        "c = 2 * 2 \n",
        "d = 4 // 2\n",
        "e = 5 % 2\n",
        "\n",
        "print(a,b,c,d,e)\n",
        "\n"
      ],
      "metadata": {
        "colab": {
          "base_uri": "https://localhost:8080/"
        },
        "id": "_BH4bKayHI8U",
        "outputId": "8748b175-e5ac-41ee-f409-15b13c4d4513"
      },
      "execution_count": 3,
      "outputs": [
        {
          "output_type": "stream",
          "name": "stdout",
          "text": [
            "4 2.0 4 2 1\n"
          ]
        }
      ]
    },
    {
      "cell_type": "code",
      "source": [
        "# convertendo minutos em horas\n",
        "\n",
        "minutos = int(input(\"digite os minutos que deseja converter em horas: \"))\n",
        "\n",
        "\n",
        "\n",
        "if minutos % 60 != 0:\n",
        "  horas = minutos // 60\n",
        "  minutos = minutos % 60\n",
        "else:\n",
        "  horas = minutos // 60\n",
        "  minutos = \"00\"\n",
        "  \n",
        "print(\" {}hs : {} minutos\".format(horas,minutos))\n"
      ],
      "metadata": {
        "colab": {
          "base_uri": "https://localhost:8080/"
        },
        "id": "yVVOyJHUIUR8",
        "outputId": "950a1a7e-4c77-478e-b430-9a67e4012ac5"
      },
      "execution_count": 24,
      "outputs": [
        {
          "output_type": "stream",
          "name": "stdout",
          "text": [
            "digite os minutos que deseja converter em horas: 450\n",
            " 7hs : 30 minutos\n"
          ]
        }
      ]
    },
    {
      "cell_type": "markdown",
      "source": [
        "### Meu objetivo é me tornar um cientista de dados profissional"
      ],
      "metadata": {
        "id": "Y62rC2VBO5t7"
      }
    },
    {
      "cell_type": "code",
      "source": [],
      "metadata": {
        "id": "D6FS5qxgM1m4"
      },
      "execution_count": null,
      "outputs": []
    }
  ]
}